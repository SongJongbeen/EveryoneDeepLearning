{
 "cells": [
  {
   "cell_type": "code",
   "execution_count": null,
   "metadata": {},
   "outputs": [],
   "source": [
    "from selenium import webdriver\n",
    "from selenium.webdriver.common.action_chains import ActionChains\n",
    "from selenium.webdriver.common.keys import Keys\n",
    "import time\n",
    "\n",
    "driver = webdriver.Firefox(executable_path='/Users/brad/Development/bdf_code/js-canvas-hack/geckodriver')\n",
    "\n",
    "driver.get('http://tanksw.com/flappy-circle/')\n",
    "\n",
    "actions = ActionChains(driver)\n",
    "spacebar = actions.send_keys(Keys.SPACE)\n",
    "\n",
    "play_button = driver.find_element_by_css_selector('div#menu')\n",
    "replay_button = driver.find_element_by_css_selector('div#replay')\n",
    "\n",
    "play_button.click()\n",
    "\n",
    "# driver.execute_script('window.VyN = -2') # 원이 낮게 점프한다\n",
    "driver.execute_script('''window.line = [[0, 300], [400, 300], [500, 300], [600, 300], [700, 300]];\n",
    "window.pushPoint = function (startX) {\n",
    "    window.line.push([startX + 100, 300]);\n",
    "};''')\n",
    "\n",
    "while True:\n",
    "    is_playing = driver.execute_script('return window.isPlaying')\n",
    "\n",
    "    if not is_playing:\n",
    "        time.sleep(3)\n",
    "        replay_button.click()\n",
    "        time.sleep(2)\n",
    "        play_button.click()\n",
    "\n",
    "    pos_now = driver.execute_script('return window.PosNow')\n",
    "    lines = driver.execute_script('return window.line')\n",
    "    cp = int(driver.execute_script('return window.CP'))\n",
    "\n",
    "    now_line_height = -(lines[cp + 1][0] - pos_now[0]) * ((lines[cp + 1][1] - lines[cp][1]) / (lines[cp + 1][0] - lines[cp][0])) + lines[cp + 1][1]\n",
    "\n",
    "    gap = (now_line_height - 8) - (pos_now[1] - 65)\n",
    "    print(gap)\n",
    "\n",
    "    if gap < 15: # jump\n",
    "        driver.execute_script('mouseListener(new Event(\"none\"))')\n",
    "        # spacebar.perform()\n",
    "        time.sleep(0.1)\n",
    "\n",
    "    time.sleep(0.001)"
   ]
  }
 ],
 "metadata": {
  "kernelspec": {
   "display_name": "Python 3",
   "language": "python",
   "name": "python3"
  },
  "language_info": {
   "codemirror_mode": {
    "name": "ipython",
    "version": 3
   },
   "file_extension": ".py",
   "mimetype": "text/x-python",
   "name": "python",
   "nbconvert_exporter": "python",
   "pygments_lexer": "ipython3",
   "version": "3.7.6"
  }
 },
 "nbformat": 4,
 "nbformat_minor": 4
}
